{
 "cells": [
  {
   "cell_type": "markdown",
   "metadata": {},
   "source": [
    "### Exercice 1\n"
   ]
  },
  {
   "cell_type": "code",
   "execution_count": 38,
   "metadata": {},
   "outputs": [
    {
     "name": "stdout",
     "output_type": "stream",
     "text": [
      "[3, 4, 5, 6, 7, 8]\n",
      "\n",
      "  Cette fonction prend en paramètre un entier n et retourne une liste contenant les n premiers entiers naturels augmentés de 3.\n",
      "  :param n: un entier\n",
      "  :return: une liste\n",
      "  \n"
     ]
    }
   ],
   "source": [
    "def ajouter_trois(n:int):\n",
    "  \"\"\"\n",
    "  Cette fonction prend en paramètre un entier n et retourne une liste contenant les n premiers entiers naturels augmentés de 3.\n",
    "  :param n: un entier\n",
    "  :return: une liste\n",
    "  \"\"\"\n",
    "  return [i + 3 for i in range(n + 1)]\n",
    "\n",
    "# Exemple d'utilisation\n",
    "n = 5\n",
    "resultat = ajouter_trois(n)\n",
    "print(resultat)\n",
    "print(ajouter_trois.__doc__) # Affiche la documentation de la fonction"
   ]
  },
  {
   "cell_type": "markdown",
   "metadata": {},
   "source": [
    "### Exercice 2\n"
   ]
  },
  {
   "cell_type": "code",
   "execution_count": 2,
   "metadata": {},
   "outputs": [
    {
     "name": "stdout",
     "output_type": "stream",
     "text": [
      "['ad', 'ae', 'bd', 'be', 'cd', 'ce']\n"
     ]
    }
   ],
   "source": [
    "#a: Créer la liste par compréhension\n",
    "chaine1 = \"abc\"\n",
    "chaine2 = \"de\"\n",
    "liste_comprehension = [x + y for x in chaine1 for y in chaine2]\n",
    "print(liste_comprehension)"
   ]
  },
  {
   "cell_type": "code",
   "execution_count": 3,
   "metadata": {},
   "outputs": [
    {
     "name": "stdout",
     "output_type": "stream",
     "text": [
      "['ad', 'ae', 'bd', 'be', 'cd', 'ce']\n"
     ]
    }
   ],
   "source": [
    "#b: Créer la fonction generer_liste_comprehension\n",
    "def generer_liste_comprehension(chaine1:str, chaine2:str)->list:\n",
    "  \"\"\"\n",
    "  Cette fonction prend en paramètre deux chaînes de caractères et retourne une liste contenant toutes les combinaisons possibles de ces deux chaînes.\n",
    "  :param chaine1: une chaîne de caractères\n",
    "  :param chaine2: une chaîne de caractères\n",
    "  :return: une liste de chaînes de caractères\n",
    "  \"\"\"\n",
    "  return [x + y for x in chaine1 for y in chaine2]\n",
    "\n",
    "# Exemple d'utilisation\n",
    "chaine1 = \"abc\"\n",
    "chaine2 = \"de\"\n",
    "liste_comprehension = generer_liste_comprehension(chaine1, chaine2)\n",
    "print(liste_comprehension)"
   ]
  },
  {
   "cell_type": "markdown",
   "metadata": {},
   "source": [
    "### Exercice 3 Médian d’une liste de nombres\n"
   ]
  },
  {
   "cell_type": "code",
   "execution_count": 33,
   "metadata": {},
   "outputs": [
    {
     "name": "stdout",
     "output_type": "stream",
     "text": [
      "4\n"
     ]
    }
   ],
   "source": [
    "#a: Elements supérieurs strictement x\n",
    "def grands(L:list, x:int)->int:\n",
    "  \"\"\"\n",
    "  Cette fonction prend en paramètre une liste d'entiers L et un entier x et retourne le nombre d'éléments de L qui sont strictement supérieurs à x.\n",
    "  :param L: une liste d'entiers\n",
    "  :param x: un entier\n",
    "  :return: un entier\n",
    "  \"\"\"\n",
    "  return len([i for i in L if i > x])\n",
    "\n",
    "# Exemple d'utilisation\n",
    "L = [1, 2, 3, 4, 5, 6,7]\n",
    "x = 3\n",
    "print(grands(L, x)) "
   ]
  },
  {
   "cell_type": "code",
   "execution_count": null,
   "metadata": {},
   "outputs": [],
   "source": [
    "#b: La complexité de l'algorithme est O(n) où n est la taille de la liste."
   ]
  },
  {
   "cell_type": "code",
   "execution_count": 34,
   "metadata": {},
   "outputs": [
    {
     "name": "stdout",
     "output_type": "stream",
     "text": [
      "3\n"
     ]
    }
   ],
   "source": [
    "#c: Elements inférieurs strictement x\n",
    "def petits(L:list, x:int)->int:\n",
    "  \"\"\"\n",
    "  Cette fonction prend en paramètre une liste d'entiers L et un entier x et retourne le nombre d'éléments de L qui sont strictement inférieurs à x.\n",
    "  :param L: une liste d'entiers\n",
    "  :param x: un entier\n",
    "  :return: un entier\n",
    "  \"\"\"\n",
    "  return sum(1 for i in L if i < x)\n",
    "\n",
    "# Exemple d'utilisation\n",
    "L = [1, 2, 3, 4, 5, 6]\n",
    "x = 3\n",
    "print(grands(L, x)) "
   ]
  },
  {
   "cell_type": "code",
   "execution_count": 10,
   "metadata": {},
   "outputs": [
    {
     "name": "stdout",
     "output_type": "stream",
     "text": [
      "Les éléments supérieurs strictement x: 5\n",
      "Les éléments inférieurs strictement x: 3\n",
      "Median of the list: 12\n"
     ]
    }
   ],
   "source": [
    "#d: Touve la médiane d'une liste\n",
    "def median(L: list) -> int:\n",
    "    \"\"\"\n",
    "    Cette fonction prend en paramètre une liste d'entiers L et retourne la médiane de cette liste.\n",
    "    :param L: une liste d'entiers\n",
    "    :return: un entier\n",
    "    \"\"\"\n",
    "    n = len(L)\n",
    "    for m in L:\n",
    "        if grands(L, m) <= n // 2 and petits(L, m) <= n // 2:\n",
    "            return m\n",
    "\n",
    "# Test the functions\n",
    "L = [25, 12, 6, 17, 3, 10, 20, 12, 15, 38]\n",
    "x = 12\n",
    "print(\"Les éléments supérieurs strictement à x:\", grands(L, x))\n",
    "print(\"Les éléments inférieurs strictement à x:\", petits(L, x))\n",
    "print(\"Median of the list:\", median(L))"
   ]
  },
  {
   "cell_type": "markdown",
   "metadata": {},
   "source": [
    "### Exercice 4\n"
   ]
  },
  {
   "cell_type": "code",
   "execution_count": 14,
   "metadata": {},
   "outputs": [
    {
     "name": "stdout",
     "output_type": "stream",
     "text": [
      "3\n",
      "3\n"
     ]
    }
   ],
   "source": [
    "# a: Nombre d'occurence\n",
    "def occur(text:str, letter:str)->int:\n",
    "    \"\"\"\n",
    "    Cette fonction prend en paramètre une chaîne de caractères text et un caractère letter et retourne le nombre d'occurrences de letter dans text.\n",
    "    :param text: une chaîne de caractères\n",
    "    :param letter: un caractère\n",
    "    :return: un entier\n",
    "    \"\"\"\n",
    "    return text.count(letter)\n",
    "\n",
    "##Methode 2\n",
    "def occur2(text:str, letter:str)->int:\n",
    "    return sum(1 for i in text if i == letter)\n",
    "\n",
    "##Methode 3\n",
    "def occur3(text:str, letter:str)->int:\n",
    "    count = 0\n",
    "    for char in text:\n",
    "        if char == letter:\n",
    "            count += 1\n",
    "    return count\n",
    "\n",
    "# Exemple d'utilisation\n",
    "text = \"hello world\"\n",
    "letter = \"l\"\n",
    "print(occur(text, letter))\n",
    "print(occur2(text, letter))\n",
    "print(occur3(text, letter))"
   ]
  },
  {
   "cell_type": "code",
   "execution_count": 23,
   "metadata": {},
   "outputs": [
    {
     "name": "stdout",
     "output_type": "stream",
     "text": [
      "Occurrences (iterative): 3\n",
      "Occurrences (recursive): 3\n",
      "Occurrences (recursive): 3\n",
      "Occurrences (recursive): 3\n"
     ]
    }
   ],
   "source": [
    "# b: version recursive \n",
    "def occur_recursive(text:str, letter:str)->int:\n",
    "    \"\"\"\n",
    "    Cette fonction prend en paramètre une chaîne de caractères text et un caractère letter et retourne le nombre d'occurrences de letter dans text.\n",
    "    :param text: une chaîne de caractères\n",
    "    :param letter: un caractère\n",
    "    :return: un entier\n",
    "    \"\"\"\n",
    "    if not text:\n",
    "        return 0\n",
    "    return (1 if text[0] == letter else 0) + occur_recursive(text[1:], letter)\n",
    "\n",
    "#Methode 2\n",
    "def occur_recursive2(text:str, letter:str)->int:\n",
    "    if not text:\n",
    "        return 0\n",
    "    return (1 if text[-1] == letter else 0) + occur_recursive2(text[:-1], letter)\n",
    "\n",
    "# Test the functions\n",
    "text = \"hello world\"\n",
    "letter = \"l\"\n",
    "print(\"Occurrences (iterative):\", occur(text, letter))\n",
    "print(\"Occurrences (recursive):\", occur_recursive(text, letter))\n",
    "print(\"Occurrences (recursive):\", occur_recursive2(text, letter))"
   ]
  },
  {
   "cell_type": "markdown",
   "metadata": {},
   "source": [
    "### Exercice 5\n"
   ]
  },
  {
   "cell_type": "code",
   "execution_count": 27,
   "metadata": {},
   "outputs": [
    {
     "name": "stdout",
     "output_type": "stream",
     "text": [
      "civic is a palindrome\n"
     ]
    }
   ],
   "source": [
    "def is_palindrome(word:str)->bool:\n",
    "  \"\"\"\n",
    "  Cette fonction prend en paramètre une chaîne de caractères word et retourne True si word est un palindrome, False sinon.\n",
    "  :param word: une chaîne de caractères\n",
    "  :return: un booléen\n",
    "  \"\"\"\n",
    "  return word == word[::-1]\n",
    "\n",
    "#methode 2\n",
    "def is_palindrome2(word:str)->bool:\n",
    "  for i in range(len(word) // 2):\n",
    "      if word[i] != word[-i - 1]:\n",
    "          return False\n",
    "  return True\n",
    "\n",
    "# Test the function\n",
    "word = input(\"Enter a word: (e.g. radar,civic,level) \")\n",
    "if is_palindrome(word):\n",
    "    print(f\"{word} is a palindrome\")\n",
    "else:\n",
    "    print(f\"{word} is not a palindrome\")\n"
   ]
  },
  {
   "cell_type": "markdown",
   "metadata": {},
   "source": [
    "### Exercice 6\n"
   ]
  },
  {
   "cell_type": "code",
   "execution_count": 29,
   "metadata": {},
   "outputs": [
    {
     "name": "stdout",
     "output_type": "stream",
     "text": [
      "Texte crypté: Fafa qef gzq sudmrq, mhqo pqe bqfufqe vmynqe\n"
     ]
    }
   ],
   "source": [
    "def encrypteLettre(lettre:str, cle:int)->str:\n",
    "  \"\"\"\n",
    "  Cette fonction prend en paramètre une lettre de l'alphabet lettre et un entier cle et retourne la lettre de l'alphabet obtenue en décalant lettre de cle positions.\n",
    "  :param lettre: une lettre de l'alphabet\n",
    "  :param cle: un entier\n",
    "  :return: une lettre de l'alphabet\n",
    "  \"\"\"\n",
    "  if 'a' <= lettre <= 'z':\n",
    "      return chr((ord(lettre) - ord('a') + cle) % 26 + ord('a'))\n",
    "  elif 'A' <= lettre <= 'Z':\n",
    "      return chr((ord(lettre) - ord('A') + cle) % 26 + ord('A'))\n",
    "  else:# Si la lettre n'est pas une lettre de l'alphabet, on la laisse inchangée\n",
    "      return lettre\n",
    "\n",
    "def encrypteMot(mot:str, cle:int)->str:\n",
    "  \"\"\"\n",
    "  Cette fonction prend en paramètre un mot et un entier cle et retourne le mot crypté en utilisant la méthode de César.\n",
    "  :param mot: un mot\n",
    "  :param cle: un entier\n",
    "  :return: un mot crypté\n",
    "  \"\"\"\n",
    "  return ''.join(encrypteLettre(lettre, cle) for lettre in mot)\n",
    "\n",
    "def encrypte(texteEnClair:str, cle:int)->str:\n",
    "  \"\"\"\n",
    "  Cette fonction prend en paramètre un texte en clair et un entier cle et retourne le texte crypté en utilisant la méthode de César.\n",
    "  :param texteEnClair: un texte en clair\n",
    "  :param cle: un entier\n",
    "  :return: un texte crypté\n",
    "  \"\"\"\n",
    "  mots = texteEnClair.split()\n",
    "  mots_cryptes = [encrypteMot(mot, cle) for mot in mots]\n",
    "  return ' '.join(mots_cryptes)\n",
    "\n",
    "# Example usage:\n",
    "texte = \"Toto est une girafe, avec des petites jambes\"\n",
    "cle = 12\n",
    "texte_crypte = encrypte(texte, cle)\n",
    "print(\"Texte crypté:\", texte_crypte)\n",
    "\n"
   ]
  },
  {
   "cell_type": "code",
   "execution_count": 31,
   "metadata": {},
   "outputs": [
    {
     "name": "stdout",
     "output_type": "stream",
     "text": [
      "Texte décrypté: Toto est une girafe, avec des petites jambes\n"
     ]
    }
   ],
   "source": [
    "def decrypte(texteCache:str, cle:int)->str:\n",
    "  \"\"\"\n",
    "  Cette fonction prend en paramètre un texte crypté texteCache et un entier cle et retourne le texte en clair correspondant.\n",
    "  :param texteCache: un texte crypté\n",
    "  :param cle: un entier\n",
    "  :return: un texte en clair\n",
    "  \"\"\"\n",
    "  return encrypte(texteCache, -cle)\n",
    "\n",
    "# Example usage:\n",
    "texte = \"Fafa qef gzq sudmrq, mhqo pqe bqfufqe vmynqe\"\n",
    "cle = 12\n",
    "texte_decrypte = decrypte(texte_crypte, cle)\n",
    "print(\"Texte décrypté:\", texte_decrypte)\n"
   ]
  },
  {
   "cell_type": "code",
   "execution_count": 37,
   "metadata": {},
   "outputs": [
    {
     "name": "stdout",
     "output_type": "stream",
     "text": [
      "Clé devinée: 12\n",
      "Clé devinée avec méthode 2: 12\n"
     ]
    }
   ],
   "source": [
    "def devineCle(texteCache:str)->int:\n",
    "  \"\"\"\n",
    "  Devine la clé utilisée pour crypter le texte en utilisant la fréquence des lettres.\n",
    "  textCache: texte crypté\n",
    "  :param texteCache: un texte crypté\n",
    "  :return: un entier\n",
    "  \"\"\"\n",
    "  max_e_count = 0\n",
    "  probable_cle = 0\n",
    "  for cle in range(26):\n",
    "      texte_decrypte = decrypte(texteCache, cle)\n",
    "      e_count = texte_decrypte.count('e')\n",
    "      if e_count > max_e_count:\n",
    "          max_e_count = e_count\n",
    "          probable_cle = cle\n",
    "  return probable_cle\n",
    "\n",
    "def devineCle2(texteCache:str)->int:\n",
    "  \"\"\"\n",
    "  Devine la clé utilisée pour crypter le texte en utilisant la fréquence des lettres.\n",
    "  textCache: texte crypté\n",
    "  :param texteCache: un texte crypté\n",
    "  :return: un entier\n",
    "\n",
    "  \"\"\"\n",
    "  from collections import Counter\n",
    "  frequence = Counter(texteCache)\n",
    "  lettre_plus_frequente = max(frequence, key=frequence.get)\n",
    "  pos = ord(lettre_plus_frequente) - ord('a')\n",
    "  cle = (pos - (ord('e') - ord('a'))) % 26\n",
    "  return cle\n",
    "\n",
    "# Example usage:\n",
    "texte_crypte = \"Fafa qef gzq sudmrq, mhqo pqe bqfufqe vmynqe\"\n",
    "cle_devinee = devineCle(texte_crypte)\n",
    "print(\"Clé devinée:\", cle_devinee)\n",
    "\n",
    "cle_devinee2 = devineCle2(texte_crypte)\n",
    "print(\"Clé devinée avec méthode 2:\", cle_devinee2)"
   ]
  }
 ],
 "metadata": {
  "kernelspec": {
   "display_name": "Python 3",
   "language": "python",
   "name": "python3"
  },
  "language_info": {
   "codemirror_mode": {
    "name": "ipython",
    "version": 3
   },
   "file_extension": ".py",
   "mimetype": "text/x-python",
   "name": "python",
   "nbconvert_exporter": "python",
   "pygments_lexer": "ipython3",
   "version": "3.12.7"
  }
 },
 "nbformat": 4,
 "nbformat_minor": 2
}
