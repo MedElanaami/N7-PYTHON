{
 "cells": [
  {
   "cell_type": "markdown",
   "metadata": {},
   "source": [
    "# Exercice 1"
   ]
  },
  {
   "cell_type": "markdown",
   "metadata": {},
   "source": [
    "#### Ecrire une fonction def Empiler_Fat(n, P1) permettant d'empiler tous les apples de la fonction factorielle jusqu'à n dans une pile P1. La fonction retourne P1"
   ]
  },
  {
   "cell_type": "code",
   "execution_count": 42,
   "metadata": {},
   "outputs": [
    {
     "name": "stdout",
     "output_type": "stream",
     "text": [
      "[1, 2, 6, 24, 120]\n"
     ]
    }
   ],
   "source": [
    "def Empiler_Fat(n:int, P1:list) -> list:\n",
    "  def factorial(n):\n",
    "    if n == 0 or n == 1:\n",
    "      return 1\n",
    "    else:\n",
    "      return n * factorial(n - 1)\n",
    "  \n",
    "  for i in range(1, n + 1):\n",
    "    P1.append(factorial(i))\n",
    "  \n",
    "  return P1\n",
    "\n",
    "# Example usage\n",
    "P1 = []\n",
    "n = 5\n",
    "P1 = Empiler_Fat(n, P1)\n",
    "print(P1)"
   ]
  },
  {
   "cell_type": "markdown",
   "metadata": {},
   "source": [
    "#### Ecrire une fonction def Empiler_Puiss(n,x,P2) permettant d'empiler tous les appels de la fonction puiss jusqu'à n dans une pile P2. La fonction retourne P2."
   ]
  },
  {
   "cell_type": "code",
   "execution_count": 43,
   "metadata": {},
   "outputs": [
    {
     "name": "stdout",
     "output_type": "stream",
     "text": [
      "[2, 4, 8, 16, 32]\n"
     ]
    }
   ],
   "source": [
    "def Empiler_Puiss(x:int, n:int, P2:list) -> list:\n",
    "  def puiss(n, x):\n",
    "    return x ** n\n",
    "  \n",
    "  for i in range(1, n + 1):\n",
    "    P2.append(puiss(i, x))\n",
    "  \n",
    "  return P2\n",
    "\n",
    "# Example usage\n",
    "P2 = []\n",
    "x = 2\n",
    "P2 = Empiler_Puiss(x,n, P2)\n",
    "print(P2)"
   ]
  },
  {
   "cell_type": "markdown",
   "metadata": {},
   "source": [
    "#### Ecrire une fonction def Empiler_Frac(P1 , P2) qui permet de construire la pile P3 à partir de de la pile 1 et la pile 2 en empilant la fraction Xi /i!"
   ]
  },
  {
   "cell_type": "code",
   "execution_count": 44,
   "metadata": {},
   "outputs": [
    {
     "name": "stdout",
     "output_type": "stream",
     "text": [
      "[2.0, 2.0, 1.3333333333333333, 0.6666666666666666, 0.26666666666666666]\n"
     ]
    }
   ],
   "source": [
    "def Empiler_Frac(P1:list, P2:list) -> list:\n",
    "  P3 = []\n",
    "  for i in range(len(P1)):\n",
    "    P3.append(P2[i] / P1[i])\n",
    "  return P3\n",
    "\n",
    "# Example usage\n",
    "P3 = Empiler_Frac(P1, P2)\n",
    "print(P3)"
   ]
  },
  {
   "cell_type": "markdown",
   "metadata": {},
   "source": [
    "#### Ecrire une fonction def Somme(n ,x) qui retourne la somme S."
   ]
  },
  {
   "cell_type": "code",
   "execution_count": 45,
   "metadata": {},
   "outputs": [
    {
     "name": "stdout",
     "output_type": "stream",
     "text": [
      "6.266666666666667\n"
     ]
    }
   ],
   "source": [
    "def Somme(n: int, x: int) -> float:\n",
    "  P1 = Empiler_Fat(n, [])\n",
    "  P2 = Empiler_Puiss(x, n, [])\n",
    "  P3 = Empiler_Frac(P1, P2)\n",
    "  return sum(P3)\n",
    "\n",
    "# Example usage\n",
    "S = Somme(n, x)\n",
    "print(S)"
   ]
  },
  {
   "cell_type": "markdown",
   "metadata": {},
   "source": [
    "# Exercice 2"
   ]
  },
  {
   "cell_type": "code",
   "execution_count": 46,
   "metadata": {},
   "outputs": [
    {
     "name": "stdout",
     "output_type": "stream",
     "text": [
      "[7.0, 7.0, 4.428571428571429]\n",
      "['17 - 10', '3 + (28 / 7)', '(3 + 28) / 7']\n"
     ]
    }
   ],
   "source": [
    "def evaluate_rpn(expression: str) -> float:\n",
    "  stack = []\n",
    "  tokens = expression.split()\n",
    "  \n",
    "  for token in tokens:\n",
    "    if token.isdigit():\n",
    "      stack.append(float(token))\n",
    "    else:\n",
    "      b = stack.pop()\n",
    "      a = stack.pop()\n",
    "      if token == '+':\n",
    "        stack.append(a + b)\n",
    "      elif token == '-':\n",
    "        stack.append(a - b)\n",
    "      elif token == '*':\n",
    "        stack.append(a * b)\n",
    "      elif token == '/':\n",
    "        stack.append(a / b)\n",
    "  \n",
    "  return stack[0]\n",
    "\n",
    "# Example usage\n",
    "expressions = [\"17 10 -\", \"3 28 7 / +\", \"3 28 + 7 /\"]\n",
    "results = [evaluate_rpn(expr) for expr in expressions]\n",
    "print(results)\n",
    "\n",
    "# Classical notation\n",
    "classical_notations = [\"17 - 10\", \"3 + (28 / 7)\", \"(3 + 28) / 7\"]\n",
    "print(classical_notations)"
   ]
  },
  {
   "cell_type": "markdown",
   "metadata": {},
   "source": [
    "#### Question 2. Traduire en notation polonaise inversée les expressions suivantes :\n",
    "(19 * 6) – 7 et (4 - 2 * (7 + 6)) + 3 * 5"
   ]
  },
  {
   "cell_type": "code",
   "execution_count": 47,
   "metadata": {},
   "outputs": [
    {
     "name": "stdout",
     "output_type": "stream",
     "text": [
      "['19 6 * 7 -', '4 2 7 6 + * - 3 5 * +']\n"
     ]
    }
   ],
   "source": [
    "# Translated expressions in RPN\n",
    "rpn_expressions = [\"19 6 * 7 -\", \"4 2 7 6 + * - 3 5 * +\"]\n",
    "\n",
    "# Print the RPN expressions\n",
    "print(rpn_expressions)"
   ]
  },
  {
   "cell_type": "markdown",
   "metadata": {},
   "source": [
    "#### Question 3. Ecrire les primitives nécessaires de gestion d'une pile sous forme d'une liste:\n",
    "PileVide, EstVide, Empiler, Depiler, et SommetPile"
   ]
  },
  {
   "cell_type": "code",
   "execution_count": 48,
   "metadata": {},
   "outputs": [
    {
     "name": "stdout",
     "output_type": "stream",
     "text": [
      "Stack after pushing 10 and 20: [10, 20]\n",
      "Top element: 20\n",
      "Popped element: 20\n",
      "Stack after popping: [10]\n",
      "Is stack empty? False\n"
     ]
    }
   ],
   "source": [
    "def PileVide() -> list:\n",
    "  \"\"\"Create an empty stack.\"\"\"\n",
    "  return []\n",
    "\n",
    "def EstVide(pile: list) -> bool:\n",
    "  \"\"\"Check if the stack is empty.\"\"\"\n",
    "  return len(pile) == 0\n",
    "\n",
    "def Empiler(pile: list, element) -> None:\n",
    "  \"\"\"Push an element onto the stack.\"\"\"\n",
    "  pile.append(element)\n",
    "\n",
    "def Depiler(pile: list):\n",
    "  \"\"\"Pop an element from the stack.\"\"\"\n",
    "  if EstVide(pile):\n",
    "    raise IndexError(\"Depiler from an empty stack\")\n",
    "  return pile.pop()\n",
    "\n",
    "def SommetPile(pile: list):\n",
    "  \"\"\"Get the top element of the stack without removing it.\"\"\"\n",
    "  if EstVide(pile):\n",
    "    raise IndexError(\"SommetPile from an empty stack\")\n",
    "  return pile[-1]\n",
    "\n",
    "# Example usage\n",
    "stack = PileVide()\n",
    "Empiler(stack, 10)\n",
    "Empiler(stack, 20)\n",
    "print(\"Stack after pushing 10 and 20:\", stack)\n",
    "print(\"Top element:\", SommetPile(stack))\n",
    "print(\"Popped element:\", Depiler(stack))\n",
    "print(\"Stack after popping:\", stack)\n",
    "print(\"Is stack empty?\", EstVide(stack))"
   ]
  },
  {
   "cell_type": "markdown",
   "metadata": {},
   "source": [
    "#### Question 4. Écrire une fonction d'entête: def EstChiffre(c) qui renvoie 1 si le caractère passé\n",
    "en paramètre est un chiffre et 0 sinon. (Rappeler bien que les chiffre 0,1,...9 sont aussi des\n",
    "caractères)\n",
    "Par exemple : EstChiffre('+')=0 et EstChiffre('4')=1"
   ]
  },
  {
   "cell_type": "code",
   "execution_count": 49,
   "metadata": {},
   "outputs": [
    {
     "name": "stdout",
     "output_type": "stream",
     "text": [
      "0\n",
      "1\n"
     ]
    }
   ],
   "source": [
    "def EstChiffre(c: str) -> int:\n",
    "  if c.isdigit():\n",
    "    return 1\n",
    "  else:\n",
    "    return 0\n",
    "\n",
    "# Example usage\n",
    "print(EstChiffre('+'))  # Output: 0\n",
    "print(EstChiffre('4'))  # Output: 1"
   ]
  },
  {
   "cell_type": "markdown",
   "metadata": {},
   "source": [
    "#### Question 5. Écrire une fonction d'entête: def Convertir(c) qui permet de convertir un\n",
    "caractère qui représente un chiffre en entier.\n",
    "\n",
    "Par exemple : Convertir('2')=2; et Convertir('0')=0"
   ]
  },
  {
   "cell_type": "code",
   "execution_count": 50,
   "metadata": {},
   "outputs": [
    {
     "name": "stdout",
     "output_type": "stream",
     "text": [
      "2\n"
     ]
    }
   ],
   "source": [
    "def Convertir(c: str) -> int:\n",
    "  return int(c)\n",
    "\n",
    "# Example usage\n",
    "print(Convertir('2'))  # Output: 2"
   ]
  },
  {
   "cell_type": "markdown",
   "metadata": {},
   "source": [
    "#### Question 6. Écrire une fonction d'entête: def Evaluer(expression) qui qui évalue une\n",
    "expression polonaise inversée, composée d'entiers entre 0 et 9 et des quatre opérations\n",
    "élémentaires"
   ]
  },
  {
   "cell_type": "code",
   "execution_count": 51,
   "metadata": {},
   "outputs": [
    {
     "name": "stdout",
     "output_type": "stream",
     "text": [
      "2\n"
     ]
    }
   ],
   "source": [
    "def Evaluer(expression: str) -> int:\n",
    "  stack = []\n",
    "  tokens = expression.split()\n",
    "  \n",
    "  for token in tokens:\n",
    "    if token.isdigit():\n",
    "      stack.append(int(token))\n",
    "    else:\n",
    "      b = stack.pop()\n",
    "      a = stack.pop()\n",
    "      if token == '+':\n",
    "        stack.append(a + b)\n",
    "      elif token == '-':\n",
    "        stack.append(a - b)\n",
    "      elif token == '*':\n",
    "        stack.append(a * b)\n",
    "      elif token == '/':\n",
    "        stack.append(a // b)  # Use integer division for consistency with the problem statement\n",
    "  \n",
    "  return stack[0]\n",
    "\n",
    "# Example usage\n",
    "example_expression = \"3 4 + 2 * 7 /\"\n",
    "result = Evaluer(example_expression)\n",
    "print(result)  # Output: 2"
   ]
  },
  {
   "cell_type": "markdown",
   "metadata": {},
   "source": [
    "#### Question 7. :Écrire une fonction d'entête: def EvaluerTexte(Fsrc, Fdest) qui permet\n",
    "d'évaluer le contenu du fichier source src ensuite stocker le resulat de chaque calcul dans le fichier\n",
    "destination dest)"
   ]
  },
  {
   "cell_type": "code",
   "execution_count": 52,
   "metadata": {},
   "outputs": [],
   "source": [
    "def EvaluerTexte(Fsrc: str, Fdest: str) -> None:\n",
    "  with open(Fsrc, 'r') as src_file:\n",
    "    expressions = src_file.readlines()\n",
    "  \n",
    "  results = [Evaluer(expr.strip()) for expr in expressions]\n",
    "  \n",
    "  with open(Fdest, 'w') as dest_file:\n",
    "    for result in results:\n",
    "      dest_file.write(f\"{result}\\n\")\n",
    "\n",
    "# Example usage\n",
    "Fsrc = './source.txt'\n",
    "Fdest = './destination.txt'\n",
    "EvaluerTexte(Fsrc, Fdest)"
   ]
  },
  {
   "attachments": {
    "image-2.png": {
     "image/png": "[encoded data removed]"
    },
    "image.png": {
     "image/png": "[encoded data removed]"
    }
   },
   "cell_type": "markdown",
   "metadata": {},
   "source": [
    "![image.png](attachment:image.png)\n",
    "![image-2.png](attachment:image-2.png)"
   ]
  },
  {
   "cell_type": "markdown",
   "metadata": {},
   "source": [
    "# Exercice 3\n",
    "On désire maintenant introduire une notion de priorité dans la file d'attente. La priorité est codé par un nombre entier positif, 0 étant le moins prioritaire. Lorsque l'on retire un élément de la queue, on veut obtenir le plus ancien avec la priorité la plus haute. Lors du dépot d'un élément on indique sa priorité: \n",
    "def deposer_dans_queue(file, element,priorite );\n",
    "1-Définir la structure de données adéquate pour gérer la file avec priorités.\n",
    "2-Ecrire les fonctions de dépot et de retrait"
   ]
  },
  {
   "cell_type": "code",
   "execution_count": 53,
   "metadata": {},
   "outputs": [
    {
     "name": "stdout",
     "output_type": "stream",
     "text": [
      "Queue apres insertion: [('tâche2', 3), ('tâche1', 2), ('tâche3', 1)]\n",
      "Element retiré: ('tâche2', 3)\n",
      "Queue apres retrait: [('tâche1', 2), ('tâche3', 1)]\n"
     ]
    }
   ],
   "source": [
    "def deposer_dans_queue(file: list, element, priorite: int) -> None:\n",
    "  file.append((element, priorite))\n",
    "  file.sort(key=lambda x: x[1], reverse=True)\n",
    "\n",
    "def retirer_de_queue(file: list):\n",
    "  if not file:\n",
    "    raise IndexError(\"retirer_de_queue from an empty queue\")\n",
    "  return file.pop(0)\n",
    "\n",
    "# Example usage\n",
    "file = []\n",
    "deposer_dans_queue(file, 'tâche1', 2)\n",
    "deposer_dans_queue(file, 'tâche2', 3)\n",
    "deposer_dans_queue(file, 'tâche3', 1)\n",
    "\n",
    "print(\"Queue apres insertion:\", file)\n",
    "\n",
    "element = retirer_de_queue(file)\n",
    "print(\"Element retiré:\", element)\n",
    "print(\"Queue apres retrait:\", file)\n"
   ]
  },
  {
   "cell_type": "markdown",
   "metadata": {},
   "source": [
    "## Exercice 4\n",
    "Dans une gare, un guichet est ouvert. Les clients arrivent à des dates aléatoires et rentrent dans une queue. L’intervalle entre l’arrivée de deux clients successifs est un nombre aléatoire entre 0 et INTERVALLE_MAX (les dates sont des entiers indiquant des secondes). Lorsque le guichetier a fini de traiter un client, il appelle le client suivant dont le traitement va avoir une durée aléatoire entre 0 et DUREE_TRAITEMENT_MAX."
   ]
  },
  {
   "cell_type": "markdown",
   "metadata": {},
   "source": [
    "#### a) Définir les structures de données pour l’algorithme de simulation.\n",
    "#### b) Écrire une fonction CreerListeClients, qui crée une file de clients, le nombre de clients étant saisi au clavier. Cette fonction initialise aussi la date d’arrivée et la durée d’attente de chacun des clients. On supposera que le premier client est arrivé à 8h.\n",
    "#### c)Écrire une fonction d’affichage qui affiche le numéro de chacun des clients, sa date d’arrivée et sa date de fin de traitement en format (h min sec)."
   ]
  },
  {
   "cell_type": "code",
   "execution_count": 54,
   "metadata": {},
   "outputs": [
    {
     "name": "stdout",
     "output_type": "stream",
     "text": [
      "Client 1: Arrival Time = 8:00:07, End Time = 8:00:11\n",
      "Client 2: Arrival Time = 8:00:09, End Time = 8:00:09\n",
      "Client 3: Arrival Time = 8:00:14, End Time = 8:00:18\n",
      "Client 4: Arrival Time = 8:00:19, End Time = 8:00:24\n",
      "Client 5: Arrival Time = 8:00:23, End Time = 8:00:26\n"
     ]
    }
   ],
   "source": [
    "import random\n",
    "from datetime import timedelta\n",
    "# Constants\n",
    "INTERVALLE_MAX = 10  # Maximum interval between arrivals in seconds\n",
    "DUREE_TRAITEMENT_MAX = 5  # Maximum processing time in seconds\n",
    "\n",
    "# Function to create a list of clients\n",
    "def CreerListeClients(num_clients: int) -> list:\n",
    "  clients = []\n",
    "  current_time = 8 * 3600  # Start time at 8:00 AM in seconds\n",
    "  for i in range(num_clients):\n",
    "    arrival_time = current_time + random.randint(0, INTERVALLE_MAX)\n",
    "    processing_time = random.randint(0, DUREE_TRAITEMENT_MAX)\n",
    "    client = {\n",
    "      'client_id': i + 1,\n",
    "      'arrival_time': arrival_time,\n",
    "      'processing_time': processing_time\n",
    "    }\n",
    "    clients.append(client)\n",
    "    current_time = arrival_time\n",
    "  return clients\n",
    "\n",
    "def AfficherClients(clients: list) -> None:\n",
    "  for client in clients:\n",
    "    arrival_time = timedelta(seconds=client['arrival_time'])\n",
    "    end_time = timedelta(seconds=client['arrival_time'] + client['processing_time'])\n",
    "    arrival_str = str(arrival_time)\n",
    "    end_str = str(end_time)\n",
    "    print(f\"Client {client['client_id']}: Arrival Time = {arrival_str}, End Time = {end_str}\")\n",
    "\n",
    "# Example usage\n",
    "num_clients = 5\n",
    "clients = CreerListeClients(num_clients)\n",
    "AfficherClients(clients)\n"
   ]
  },
  {
   "cell_type": "markdown",
   "metadata": {},
   "source": [
    "# Exercice 5"
   ]
  },
  {
   "cell_type": "markdown",
   "metadata": {},
   "source": [
    "#### Créer une fonction Python permettant d’importer le fichier dans une table. La table renvoyée est une liste de dictionnaires Python."
   ]
  },
  {
   "cell_type": "code",
   "execution_count": 55,
   "metadata": {},
   "outputs": [
    {
     "name": "stdout",
     "output_type": "stream",
     "text": [
      "[{'nom': 'Morgan', 'genre': 'M', 'score_1': '199', 'score_2': '352', 'email': 'momo@example.com'}, {'nom': 'Celia', 'genre': 'F', 'score_1': '993', 'score_2': '239', 'email': 'celiadupont@example.com'}, {'nom': 'Mehdi', 'genre': 'M', 'score_1': '234', 'score_2': '876', 'email': 'bossDeLoctogone@rapgame.fr'}, {'nom': 'John', 'genre': 'M', 'score_1': '1452', 'score_2': '86', 'email': 'jonny@example.com'}, {'nom': 'Axelle', 'genre': 'F', 'score_1': '290', 'score_2': '222', 'email': 'ax59@ici.com'}, {'nom': 'Sonia', 'genre': 'F', 'score_1': '1987', 'score_2': '965', 'email': 'soso@example.com'}, {'nom': 'Sabina', 'genre': 'F', 'score_1': '197', 'score_2': '25', 'email': 'booba@example.com'}, {'nom': 'Thibault', 'genre': 'F', 'score_1': '1987', 'score_2': '765', 'email': 'thiball@goog.com'}, {'nom': 'Louis', 'genre': 'M', 'score_1': '223', 'score_2': '65', 'email': 'lmax@example.com'}, {'nom': 'Lena', 'genre': 'F', 'score_1': '1987', 'score_2': '765', 'email': 'leterminator@caramail.com'}, {'nom': 'Luka', 'genre': 'M', 'score_1': '977', 'score_2': '535', 'email': 'lulu@example.com'}, {'nom': 'Sandra', 'genre': 'F', 'score_1': '197', 'score_2': '259', 'email': 'temointemoin@example.com'}, {'nom': 'Irena', 'genre': 'F', 'score_1': '17', 'score_2': '893', 'email': 'nena@example.com'}]\n"
     ]
    }
   ],
   "source": [
    "import csv\n",
    "\n",
    "def importer_fichier_dans_table(filepath: str) -> list:\n",
    "  table = []\n",
    "  with open(filepath, mode='r', newline='') as file:\n",
    "    reader = csv.DictReader(file)\n",
    "    for row in reader:\n",
    "      table.append(dict(row))\n",
    "  return table\n",
    "\n",
    "# Example usage\n",
    "filepath = './utilisateurs.csv'\n",
    "utilisateurTable = importer_fichier_dans_table(filepath)\n",
    "print(utilisateurTable)"
   ]
  },
  {
   "cell_type": "markdown",
   "metadata": {},
   "source": [
    "#### 2. Sélectionner\n",
    "Pour toutes les sélections à effectuer, on partira de la table crée à la question précédente.\n",
    "On donnera une fonction Python par question (pouvant appeler d’autres fonctions).\n",
    "1. Créer la table des enregistrements des joueurs ayant moins de 300 points au premier\n",
    "jeu.\n",
    "2. Créer la table des enregistrements des filles.\n",
    "3. Créer la table des enregistrements des utilisateurs dont l’adresse mail fait partie du\n",
    "domaine @example.fr"
   ]
  },
  {
   "cell_type": "code",
   "execution_count": 56,
   "metadata": {},
   "outputs": [
    {
     "name": "stdout",
     "output_type": "stream",
     "text": [
      "Joueurs ayant moins de 300 points au premier jeu: [{'nom': 'Morgan', 'genre': 'M', 'score_1': '199', 'score_2': '352', 'email': 'momo@example.com'}, {'nom': 'Mehdi', 'genre': 'M', 'score_1': '234', 'score_2': '876', 'email': 'bossDeLoctogone@rapgame.fr'}, {'nom': 'Axelle', 'genre': 'F', 'score_1': '290', 'score_2': '222', 'email': 'ax59@ici.com'}, {'nom': 'Sabina', 'genre': 'F', 'score_1': '197', 'score_2': '25', 'email': 'booba@example.com'}, {'nom': 'Louis', 'genre': 'M', 'score_1': '223', 'score_2': '65', 'email': 'lmax@example.com'}, {'nom': 'Sandra', 'genre': 'F', 'score_1': '197', 'score_2': '259', 'email': 'temointemoin@example.com'}, {'nom': 'Irena', 'genre': 'F', 'score_1': '17', 'score_2': '893', 'email': 'nena@example.com'}]\n",
      "Enregistrements des filles: [{'nom': 'Celia', 'genre': 'F', 'score_1': '993', 'score_2': '239', 'email': 'celiadupont@example.com'}, {'nom': 'Axelle', 'genre': 'F', 'score_1': '290', 'score_2': '222', 'email': 'ax59@ici.com'}, {'nom': 'Sonia', 'genre': 'F', 'score_1': '1987', 'score_2': '965', 'email': 'soso@example.com'}, {'nom': 'Sabina', 'genre': 'F', 'score_1': '197', 'score_2': '25', 'email': 'booba@example.com'}, {'nom': 'Thibault', 'genre': 'F', 'score_1': '1987', 'score_2': '765', 'email': 'thiball@goog.com'}, {'nom': 'Lena', 'genre': 'F', 'score_1': '1987', 'score_2': '765', 'email': 'leterminator@caramail.com'}, {'nom': 'Sandra', 'genre': 'F', 'score_1': '197', 'score_2': '259', 'email': 'temointemoin@example.com'}, {'nom': 'Irena', 'genre': 'F', 'score_1': '17', 'score_2': '893', 'email': 'nena@example.com'}]\n",
      "Utilisateurs avec email @example.fr: []\n"
     ]
    }
   ],
   "source": [
    "def joueurs_moins_de_300_points(table: list) -> list:\n",
    "  return [record for record in table if int(record['score_1']) < 300]\n",
    "\n",
    "def enregistrements_filles(table: list) -> list:\n",
    "  return [record for record in table if record['genre'] == 'F']\n",
    "\n",
    "def utilisateurs_domaine_example_fr(table: list) -> list:\n",
    "  return [record for record in table if record['email'].endswith('@example.fr')]\n",
    "\n",
    "# Example usage\n",
    "joueurs_moins_300 = joueurs_moins_de_300_points(utilisateurTable)\n",
    "filles = enregistrements_filles(utilisateurTable)\n",
    "utilisateurs_example_fr = utilisateurs_domaine_example_fr(utilisateurTable)\n",
    "\n",
    "print(\"Joueurs ayant moins de 300 points au premier jeu:\", joueurs_moins_300)\n",
    "print(\"Enregistrements des filles:\", filles)\n",
    "print(\"Utilisateurs avec email @example.fr:\", utilisateurs_example_fr)"
   ]
  },
  {
   "cell_type": "markdown",
   "metadata": {},
   "source": [
    "#### 3. Projecter\n",
    "Pour chaque projection on créera une fonction qui retourne une table.\n",
    "Celle-ci sera toujours une liste de dictionnaires, comme précédemment.\n",
    "1. Meilleurs scores\n",
    "a. Créer les projections des meilleurs scores pour chaque jeu.\n",
    "b. Utiliser cette fonction pour créer la liste des meilleurs scores pour chaque jeu,\n",
    "triées par score croissant.\n",
    "c. Calculer le score moyen de chaque jeu.\n",
    "2. Adresses mail.\n",
    "a. Créer la projection des adresses mail. Le résultat attendu est la liste de toutes\n",
    "les adresses des joueurs.\n",
    "b. Recommencer en ne conservant que les 10 joueurs ayant le plus mauvais score\n",
    "pour chaque jeu.\n",
    "c. Enfin, effacer les doublons."
   ]
  },
  {
   "cell_type": "code",
   "execution_count": 57,
   "metadata": {},
   "outputs": [
    {
     "name": "stdout",
     "output_type": "stream",
     "text": [
      "Meilleurs scores: [{'nom': 'Morgan', 'score_1': 199, 'score_2': 352}, {'nom': 'Celia', 'score_1': 993, 'score_2': 239}, {'nom': 'Mehdi', 'score_1': 234, 'score_2': 876}, {'nom': 'John', 'score_1': 1452, 'score_2': 86}, {'nom': 'Axelle', 'score_1': 290, 'score_2': 222}, {'nom': 'Sonia', 'score_1': 1987, 'score_2': 965}, {'nom': 'Sabina', 'score_1': 197, 'score_2': 25}, {'nom': 'Thibault', 'score_1': 1987, 'score_2': 765}, {'nom': 'Louis', 'score_1': 223, 'score_2': 65}, {'nom': 'Lena', 'score_1': 1987, 'score_2': 765}, {'nom': 'Luka', 'score_1': 977, 'score_2': 535}, {'nom': 'Sandra', 'score_1': 197, 'score_2': 259}, {'nom': 'Irena', 'score_1': 17, 'score_2': 893}]\n",
      "Meilleurs scores triés: [{'nom': 'Irena', 'score_1': 17, 'score_2': 893}, {'nom': 'Sabina', 'score_1': 197, 'score_2': 25}, {'nom': 'Sandra', 'score_1': 197, 'score_2': 259}, {'nom': 'Morgan', 'score_1': 199, 'score_2': 352}, {'nom': 'Louis', 'score_1': 223, 'score_2': 65}, {'nom': 'Mehdi', 'score_1': 234, 'score_2': 876}, {'nom': 'Axelle', 'score_1': 290, 'score_2': 222}, {'nom': 'Luka', 'score_1': 977, 'score_2': 535}, {'nom': 'Celia', 'score_1': 993, 'score_2': 239}, {'nom': 'John', 'score_1': 1452, 'score_2': 86}, {'nom': 'Thibault', 'score_1': 1987, 'score_2': 765}, {'nom': 'Lena', 'score_1': 1987, 'score_2': 765}, {'nom': 'Sonia', 'score_1': 1987, 'score_2': 965}]\n",
      "Scores moyens: {'score_1_moyen': 826.1538461538462, 'score_2_moyen': 465.15384615384613}\n",
      "Adresses mail: ['momo@example.com', 'celiadupont@example.com', 'bossDeLoctogone@rapgame.fr', 'jonny@example.com', 'ax59@ici.com', 'soso@example.com', 'booba@example.com', 'thiball@goog.com', 'lmax@example.com', 'leterminator@caramail.com', 'lulu@example.com', 'temointemoin@example.com', 'nena@example.com']\n",
      "Mauvais scores: [{'nom': 'Irena', 'score_1': 17, 'score_2': 893}, {'nom': 'Sabina', 'score_1': 197, 'score_2': 25}, {'nom': 'Sandra', 'score_1': 197, 'score_2': 259}, {'nom': 'Morgan', 'score_1': 199, 'score_2': 352}, {'nom': 'Louis', 'score_1': 223, 'score_2': 65}, {'nom': 'Mehdi', 'score_1': 234, 'score_2': 876}, {'nom': 'Axelle', 'score_1': 290, 'score_2': 222}, {'nom': 'Luka', 'score_1': 977, 'score_2': 535}, {'nom': 'Celia', 'score_1': 993, 'score_2': 239}, {'nom': 'John', 'score_1': 1452, 'score_2': 86}]\n",
      "Adresses mail sans doublons: ['soso@example.com', 'momo@example.com', 'booba@example.com', 'thiball@goog.com', 'ax59@ici.com', 'temointemoin@example.com', 'nena@example.com', 'bossDeLoctogone@rapgame.fr', 'lmax@example.com', 'jonny@example.com', 'celiadupont@example.com', 'lulu@example.com', 'leterminator@caramail.com']\n"
     ]
    }
   ],
   "source": [
    "def projection_meilleurs_scores(table: list) -> list:\n",
    "  return [{'nom': record['nom'], 'score_1': int(record['score_1']), 'score_2': int(record['score_2'])} for record in table]\n",
    "\n",
    "def trier_par_score_croissant(projection: list) -> list:\n",
    "  return sorted(projection, key=lambda x: (x['score_1'], x['score_2']))\n",
    "\n",
    "def calculer_score_moyen(projection: list) -> dict:\n",
    "  total_score_1 = sum(record['score_1'] for record in projection)\n",
    "  total_score_2 = sum(record['score_2'] for record in projection)\n",
    "  return {\n",
    "    'score_1_moyen': total_score_1 / len(projection),\n",
    "    'score_2_moyen': total_score_2 / len(projection)\n",
    "  }\n",
    "\n",
    "def projection_adresses_mail(table: list) -> list:\n",
    "  return [record['email'] for record in table]\n",
    "\n",
    "def projection_mauvais_scores(table: list) -> list:\n",
    "  projection = projection_meilleurs_scores(table)\n",
    "  projection_sorted = sorted(projection, key=lambda x: (x['score_1'], x['score_2']))\n",
    "  return projection_sorted[:10]\n",
    "\n",
    "def effacer_doublons(liste: list) -> list:\n",
    "  return list(set(liste))\n",
    "\n",
    "# Example usage\n",
    "meilleurs_scores = projection_meilleurs_scores(utilisateurTable)\n",
    "meilleurs_scores_tries = trier_par_score_croissant(meilleurs_scores)\n",
    "scores_moyens = calculer_score_moyen(meilleurs_scores)\n",
    "adresses_mail = projection_adresses_mail(utilisateurTable)\n",
    "mauvais_scores = projection_mauvais_scores(utilisateurTable)\n",
    "adresses_mail_sans_doublons = effacer_doublons(adresses_mail)\n",
    "\n",
    "print(\"Meilleurs scores:\", meilleurs_scores)\n",
    "print(\"Meilleurs scores triés:\", meilleurs_scores_tries)\n",
    "print(\"Scores moyens:\", scores_moyens)\n",
    "print(\"Adresses mail:\", adresses_mail)\n",
    "print(\"Mauvais scores:\", mauvais_scores)\n",
    "print(\"Adresses mail sans doublons:\", adresses_mail_sans_doublons)"
   ]
  }
 ],
 "metadata": {
  "kernelspec": {
   "display_name": "Python 3",
   "language": "python",
   "name": "python3"
  },
  "language_info": {
   "codemirror_mode": {
    "name": "ipython",
    "version": 3
   },
   "file_extension": ".py",
   "mimetype": "text/x-python",
   "name": "python",
   "nbconvert_exporter": "python",
   "pygments_lexer": "ipython3",
   "version": "3.12.7"
  }
 },
 "nbformat": 4,
 "nbformat_minor": 2
}
