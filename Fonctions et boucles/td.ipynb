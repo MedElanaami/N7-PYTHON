{
 "cells": [
  {
   "cell_type": "markdown",
   "metadata": {},
   "source": [
    "Exercice 1 (break & continue)"
   ]
  },
  {
   "cell_type": "code",
   "execution_count": 43,
   "metadata": {},
   "outputs": [
    {
     "name": "stdout",
     "output_type": "stream",
     "text": [
      "8\n",
      "9\n",
      "10\n",
      "21\n",
      "22\n",
      "23\n",
      "24\n",
      "25\n",
      "51\n"
     ]
    }
   ],
   "source": [
    "i = 7\n",
    "while i < 1000:\n",
    "   i = i + 1\n",
    "   print(i)\n",
    "   if i < 10:\n",
    "     continue\n",
    "   if i % 5 == 0:\n",
    "     i = 2 * i\n",
    "   if i % 17 == 0:\n",
    "    break"
   ]
  },
  {
   "cell_type": "markdown",
   "metadata": {},
   "source": [
    "Exercice 2\n",
    "  "
   ]
  },
  {
   "cell_type": "code",
   "execution_count": 28,
   "metadata": {},
   "outputs": [
    {
     "data": {
      "text/plain": [
       "53"
      ]
     },
     "execution_count": 28,
     "metadata": {},
     "output_type": "execute_result"
    }
   ],
   "source": [
    "def somme(nbr):\n",
    "    sommeT = 0\n",
    "    while nbr > 0:\n",
    "        chiffre = nbr % 10\n",
    "        sommeT += chiffre\n",
    "        nbr = nbr // 10\n",
    "    return sommeT\n",
    "# Fin Fonction\n",
    "\n",
    "try:\n",
    "    nbr = int(input(\"Entrez un nombre: \"))\n",
    "    print(f\"La somme des chiffres de {nbr} est : {somme(nbr)}\")\n",
    "except ValueError:\n",
    "    print(\"Entrée invalide. Veuillez entrer un nombre entier.\")"
   ]
  },
  {
   "cell_type": "markdown",
   "metadata": {},
   "source": [
    "Exercice 3\n"
   ]
  },
  {
   "cell_type": "markdown",
   "metadata": {},
   "source": [
    "(a) Écrivez un programme qui permet à l’utilisateur de saisir autant de nombres entiers\n",
    "qu’il veut et qui affiche la moyenne des nombres rentrés. Quand l’utilisateur a terminé,il écrit \"stop\" au lieu d’un nombre, et c’est à ce moment-là qu’on lui affiche la moyenne."
   ]
  },
  {
   "cell_type": "code",
   "execution_count": 45,
   "metadata": {},
   "outputs": [
    {
     "name": "stdout",
     "output_type": "stream",
     "text": [
      "la moyenne est 2.0\n"
     ]
    }
   ],
   "source": [
    "def moyenne():\n",
    "  indice=total=0\n",
    "  while True:\n",
    "    nbr=input(\"Donner un nombre\")\n",
    "    if(nbr==\"stop\"):\n",
    "      break\n",
    "    try:\n",
    "      nbr=int(nbr)\n",
    "      indice+=1\n",
    "      total+=nbr\n",
    "    except ValueError:\n",
    "      print(\"Nombre valide ou 'stop'\")\n",
    "\n",
    "  if indice==0:\n",
    "    return 0\n",
    "  return total/indice\n",
    "#Fin Fonction\n",
    "moy=moyenne()\n",
    "print(f\"la moyenne est {moy}\")\n",
    "\n",
    "\n"
   ]
  },
  {
   "cell_type": "markdown",
   "metadata": {},
   "source": [
    "(b) Modifiez le programme pour qu’il redemande les nombres tant qu’ils ne sont pas compris entre 0 et 20."
   ]
  },
  {
   "cell_type": "code",
   "execution_count": 16,
   "metadata": {},
   "outputs": [
    {
     "name": "stdout",
     "output_type": "stream",
     "text": [
      "la moyenne est 2.0\n"
     ]
    }
   ],
   "source": [
    "def moyenne():\n",
    "  indice=total=0\n",
    "  while True:\n",
    "    nbr=input(\"Donner un nombre entre 0 et 20 (ou 'stop')\")\n",
    "    if(nbr==\"stop\"):\n",
    "      break\n",
    "    try:\n",
    "      nbr=int(nbr)\n",
    "      if 0<= nbr <=20:\n",
    "        indice+=1\n",
    "        total+=nbr\n",
    "      else:\n",
    "        print(\"Donner un nombre entre 0 et 20\")\n",
    "    except ValueError:\n",
    "      print(\"Nombre valide ou 'stop'\")\n",
    "\n",
    "  if indice==0:\n",
    "    return 0\n",
    "  return total/indice\n",
    "#Fin Fonction\n",
    "\n",
    "moy=moyenne()\n",
    "print(f\"la moyenne est {moy}\")\n",
    "\n",
    "\n"
   ]
  },
  {
   "cell_type": "markdown",
   "metadata": {},
   "source": [
    "Exercice 4 (Racine cubique)\n",
    "Pour cet exercice, vous devez vous passer du transtypage.\n",
    "(a) Écrivez une fonction racine_cubique qui prend un nombre naturel en argument et qui renvoie la partie entière de la racine cubique de ce nombre, c’est-à-dire le plus grand naturel dont le cube est inférieur ou égal à ce nombre. Par exemple, racine_cubique(8) renverra 2, et racine_cubique(29) renverra 3 car 33 = 27 Æ 29 mais 43 = 64 > 29."
   ]
  },
  {
   "cell_type": "code",
   "execution_count": 20,
   "metadata": {},
   "outputs": [
    {
     "name": "stdout",
     "output_type": "stream",
     "text": [
      "La partie entiere de la racine cubique de 29 est : 3\n"
     ]
    }
   ],
   "source": [
    "def racine_cubique(nbr):\n",
    "    return nbr ** (1/3)\n",
    "# Fin Fonction\n",
    "\n",
    "try:\n",
    "    nbr = int(input(\"Racine Cubique de \"))\n",
    "    res = racine_cubique(nbr)\n",
    "    print(f\"La partie entiere de la racine cubique de {nbr} est : {int(res)}\")\n",
    "except ValueError:\n",
    "    print(\"Entrée invalide. Veuillez entrer un nombre entier.\")"
   ]
  },
  {
   "cell_type": "markdown",
   "metadata": {},
   "source": [
    "(b) Écrivez une fonction est_cube(n), où n est un naturel, qui vérifie si n est un cube.\n",
    "Par exemple, est_cube(27) renvoie True et est_cube(4) renvoie False."
   ]
  },
  {
   "cell_type": "code",
   "execution_count": 53,
   "metadata": {},
   "outputs": [
    {
     "name": "stdout",
     "output_type": "stream",
     "text": [
      "True\n",
      "False\n"
     ]
    }
   ],
   "source": [
    "def est_cube(n):\n",
    "  try:\n",
    "    rounded_cube=round(racine_cubique(n))\n",
    "    return rounded_cube**3==n\n",
    "  except (TypeError, ValueError):\n",
    "        return \"Entrée invalide. Veuillez entrer un nombre.\"\n",
    "# Fin Fonction\n",
    "\n",
    "print(est_cube(27))\n",
    "print(est_cube(4))\n"
   ]
  },
  {
   "cell_type": "markdown",
   "metadata": {},
   "source": [
    "(c) Adaptez ces deux fonctions pour qu’elles fonctionnent aussi pour les entiers négatifs."
   ]
  },
  {
   "cell_type": "code",
   "execution_count": 27,
   "metadata": {},
   "outputs": [
    {
     "name": "stdout",
     "output_type": "stream",
     "text": [
      "-3.0\n",
      "2.0\n",
      "True\n",
      "False\n"
     ]
    }
   ],
   "source": [
    "def racine_cubique(nbr):\n",
    "    try:\n",
    "        nbr = float(nbr)\n",
    "        if nbr < 0:\n",
    "            return -(-nbr) ** (1/3)\n",
    "        else:\n",
    "            return nbr ** (1/3)\n",
    "    except (TypeError, ValueError):\n",
    "        return \"Entrée invalide. Veuillez entrer un nombre.\"\n",
    "# Fin Fonction\n",
    "\n",
    "def est_cube(n):\n",
    "    try:\n",
    "        n = float(n)\n",
    "        abs_n = abs(n)\n",
    "        cube_root = abs_n ** (1/3)\n",
    "        rounded_cube_root = round(cube_root)\n",
    "        \n",
    "        if n < 0:\n",
    "            return -rounded_cube_root ** 3 == n\n",
    "        else:\n",
    "            return rounded_cube_root ** 3 == n\n",
    "    except (TypeError, ValueError):\n",
    "        return \"Entrée invalide. Veuillez entrer un nombre.\"\n",
    "# Fin Fonction\n",
    "\n",
    "# Example usage\n",
    "print(racine_cubique(-27)) \n",
    "print(racine_cubique(8))    \n",
    "print(racine_cubique(\"abc\"))  # Invalid input example\n",
    "\n",
    "print(est_cube(-27))  \n",
    "print(est_cube(4))    \n",
    "print(est_cube(\"xyz\"))  # Invalid input example"
   ]
  },
  {
   "cell_type": "markdown",
   "metadata": {},
   "source": [
    "Exercice 5\n",
    "Écrivez un programme qui demande à l’utilisateur de deviner un nombre entre 1 et 100\n",
    "généré aléatoirement à l’aide de la fonction randint du module random. Le nombre d’essais doit être limité à un certain n fixé au préalable. L’affichage devra être le suivant :\n"
   ]
  },
  {
   "cell_type": "code",
   "execution_count": 4,
   "metadata": {},
   "outputs": [
    {
     "name": "stdout",
     "output_type": "stream",
     "text": [
      "10\n",
      "Raté, le nombre donné est 5, le nombre à trouver est plus grand\n"
     ]
    },
    {
     "data": {
      "text/plain": [
       "'Bravo le nombre a deviner est 10'"
      ]
     },
     "execution_count": 4,
     "metadata": {},
     "output_type": "execute_result"
    }
   ],
   "source": [
    "import random\n",
    "\n",
    "def random_number():\n",
    "    # Definir le nombre a deviner\n",
    "    nbr_a_trouver = random.randint(1, 100)\n",
    "    print(nbr_a_trouver) \n",
    "\n",
    "    # Nombre d'essai\n",
    "    essai = 5\n",
    "    i = 0\n",
    "\n",
    "    while i < essai:\n",
    "        try:\n",
    "            nbr_donner = int(input(f\"Tentez de deviner un nombre entre 1 et 100 (essais restants: {essai - i}): \"))\n",
    "        except ValueError:\n",
    "            print(\"Entrée invalide. Veuillez entrer un nombre entier.\")\n",
    "            continue\n",
    "\n",
    "        i += 1\n",
    "        if nbr_donner == nbr_a_trouver:\n",
    "            return f\"Bravo le nombre a deviner est {nbr_a_trouver}\"\n",
    "        elif nbr_donner < nbr_a_trouver:\n",
    "            print(f\"Raté, le nombre donné est {nbr_donner}, le nombre à trouver est plus grand\")\n",
    "        else:\n",
    "            print(f\"Raté, le nombre donné est {nbr_donner}, le nombre à trouver est plus petit\")\n",
    "\n",
    "    print(\"Nombre d'essais est terminé\")\n",
    "# Fin Fonction\n",
    "\n",
    "random_number()"
   ]
  },
  {
   "cell_type": "markdown",
   "metadata": {},
   "source": [
    "Exercice 6\n",
    "(a) Écrivez un programme qui fait jouer l’utilisateur à “Pierre / papier / ciseaux” contre\n",
    "l’ordinateur. L’utilisateur rentre son choix sous la forme d’une chaîne de caractères (ou\n",
    "\"stop\" pour arrêter). À la fin de l’exécution du programme, celui-ci doit a\n",
    "cher les\n",
    "scores (par exemple : “5 victoires, 3 défaites” pour l’utilisateur). L’ordinateur jouera\n",
    "au hasard à chaque partie.\n"
   ]
  },
  {
   "cell_type": "code",
   "execution_count": 1,
   "metadata": {},
   "outputs": [
    {
     "name": "stdout",
     "output_type": "stream",
     "text": [
      "L'ordinateur a choisi: pierre\n",
      "Égalité!\n",
      "L'ordinateur a choisi: papier\n",
      "Vous avez perdu!\n",
      "L'ordinateur a choisi: papier\n",
      "Vous avez gagné!\n",
      "Score final: 1 victoires, 1 défaites\n"
     ]
    }
   ],
   "source": [
    "import random\n",
    "\n",
    "def jeux():\n",
    "    pointPc = pointJoueur = 0\n",
    "    choix = [\"pierre\", \"papier\", \"ciseaux\"]\n",
    "\n",
    "    while True:\n",
    "        # Choix de joueur\n",
    "        choixJoueur = input(\"Donner votre choix (pierre, papier, ciseaux) ou 'stop' pour arreter: \").lower()\n",
    "        if choixJoueur == \"stop\":\n",
    "            break\n",
    "        if choixJoueur not in choix:\n",
    "            print(\"Choix invalide. Veuillez choisir entre 'pierre', 'papier' ou 'ciseaux'.\")\n",
    "            continue\n",
    "\n",
    "        # Choix de l'ordinateur\n",
    "        choixPc = random.choice(choix)\n",
    "        print(f\"L'ordinateur a choisi: {choixPc}\")\n",
    "\n",
    "        # Déterminer le gagnant\n",
    "        if choixJoueur == choixPc:\n",
    "            print(\"Égalité!\")\n",
    "        elif (choixJoueur == \"pierre\" and choixPc == \"ciseaux\") or \\\n",
    "             (choixJoueur == \"papier\" and choixPc == \"pierre\") or \\\n",
    "             (choixJoueur == \"ciseaux\" and choixPc == \"papier\"):\n",
    "            print(\"Vous avez gagné!\")\n",
    "            pointJoueur += 1\n",
    "        else:\n",
    "            print(\"Vous avez perdu!\")\n",
    "            pointPc += 1\n",
    "\n",
    "    # Afficher les scores finaux\n",
    "    print(f\"Score final: {pointJoueur} victoires, {pointPc} défaites\")\n",
    "\n",
    "# Lancer le jeu\n",
    "jeux()"
   ]
  },
  {
   "cell_type": "markdown",
   "metadata": {},
   "source": [
    "(b) Une fois le programme fonctionnel, modifiez-le pour forcer l’utilisateur à rentrer une\n",
    "chaîne interprétable, c’est-à-dire soit un des trois choix valides, soit la chaîne \"stop\" ;\n",
    "si l’utilisateur rentre autre chose, il faut lui redemander son choix tant qu’il n’est pas\n",
    "valide.\n"
   ]
  },
  {
   "cell_type": "code",
   "execution_count": null,
   "metadata": {},
   "outputs": [],
   "source": [
    "import random\n",
    "\n",
    "def jeux():\n",
    "    pointPc = pointJoueur = 0\n",
    "    choix = [\"pierre\", \"papier\", \"ciseaux\"]\n",
    "\n",
    "    while True:\n",
    "        # Demander le choix de l'utilisateur jusqu'à ce qu'il soit valide\n",
    "        while True:\n",
    "            choixJoueur = input(\"Donner votre choix (pierre, papier, ciseaux) ou 'stop' pour arrêter: \").lower()\n",
    "            if choixJoueur in choix or choixJoueur == \"stop\":\n",
    "                break\n",
    "            else:\n",
    "                print(\"Choix invalide. Veuillez choisir entre 'pierre', 'papier', 'ciseaux' ou 'stop'.\")\n",
    "\n",
    "        if choixJoueur == \"stop\":\n",
    "            break\n",
    "\n",
    "        # Choix de l'ordinateur\n",
    "        choixPc = random.choice(choix)\n",
    "        print(f\"L'ordinateur a choisi: {choixPc}\")\n",
    "\n",
    "        # Déterminer le gagnant\n",
    "        if choixJoueur == choixPc:\n",
    "            print(\"Égalité!\")\n",
    "        elif (choixJoueur == \"pierre\" and choixPc == \"ciseaux\") or \\\n",
    "             (choixJoueur == \"papier\" and choixPc == \"pierre\") or \\\n",
    "             (choixJoueur == \"ciseaux\" and choixPc == \"papier\"):\n",
    "            print(\"Vous avez gagné!\")\n",
    "            pointJoueur += 1\n",
    "        else:\n",
    "            print(\"Vous avez perdu!\")\n",
    "            pointPc += 1\n",
    "\n",
    "    # Afficher les scores finaux\n",
    "    print(f\"Score final: {pointJoueur} victoires, {pointPc} défaites\")\n",
    "\n",
    "# Lancer le jeu\n",
    "jeux()"
   ]
  },
  {
   "cell_type": "markdown",
   "metadata": {},
   "source": [
    "(c) Si vous avez résolu l’exercice à l’aide de nombreux if, trouvez une solution plus concise.\n",
    "Vous pouvez en cas de besoin utiliser la méthode index des listes : lst.index(valeur)\n",
    "renvoie la position de la première occurrence de valeur dans la liste lst."
   ]
  },
  {
   "cell_type": "code",
   "execution_count": 2,
   "metadata": {},
   "outputs": [
    {
     "name": "stdout",
     "output_type": "stream",
     "text": [
      "L'ordinateur a choisi: ciseaux\n",
      "Vous avez perdu!\n",
      "L'ordinateur a choisi: pierre\n",
      "Vous avez perdu!\n",
      "L'ordinateur a choisi: ciseaux\n",
      "Vous avez gagné!\n",
      "Score final: 1 victoires, 2 défaites\n"
     ]
    }
   ],
   "source": [
    "import random\n",
    "\n",
    "def jeux():\n",
    "    pointPc = pointJoueur = 0\n",
    "    choix = [\"pierre\", \"papier\", \"ciseaux\"]\n",
    "\n",
    "    while True:\n",
    "        # Demander le choix de l'utilisateur jusqu'à ce qu'il soit valide\n",
    "        while True:\n",
    "            choixJoueur = input(\"Donner votre choix (pierre, papier, ciseaux) ou 'stop' pour arrêter: \").lower()\n",
    "            if choixJoueur in choix or choixJoueur == \"stop\":\n",
    "                break\n",
    "            else:\n",
    "                print(\"Choix invalide. Veuillez choisir entre 'pierre', 'papier', 'ciseaux' ou 'stop'.\")\n",
    "\n",
    "        if choixJoueur == \"stop\":\n",
    "            break\n",
    "\n",
    "        # Choix de l'ordinateur\n",
    "        choixPc = random.choice(choix)\n",
    "        print(f\"L'ordinateur a choisi: {choixPc}\")\n",
    "\n",
    "        # Utiliser les indices pour déterminer le gagnant\n",
    "        indexJoueur = choix.index(choixJoueur)\n",
    "        indexPc = choix.index(choixPc)\n",
    "\n",
    "        # Déterminer le gagnant en utilisant les indices\n",
    "        if indexJoueur == indexPc:\n",
    "            print(\"Égalité!\")\n",
    "        elif (indexJoueur - indexPc) % 3 == 1:\n",
    "            print(\"Vous avez gagné!\")\n",
    "            pointJoueur += 1\n",
    "        else:\n",
    "            print(\"Vous avez perdu!\")\n",
    "            pointPc += 1\n",
    "\n",
    "    # Afficher les scores finaux\n",
    "    print(f\"Score final: {pointJoueur} victoires, {pointPc} défaites\")\n",
    "\n",
    "# Lancer le jeu\n",
    "jeux()"
   ]
  },
  {
   "cell_type": "code",
   "execution_count": null,
   "metadata": {},
   "outputs": [],
   "source": []
  }
 ],
 "metadata": {
  "kernelspec": {
   "display_name": "Python 3",
   "language": "python",
   "name": "python3"
  },
  "language_info": {
   "codemirror_mode": {
    "name": "ipython",
    "version": 3
   },
   "file_extension": ".py",
   "mimetype": "text/x-python",
   "name": "python",
   "nbconvert_exporter": "python",
   "pygments_lexer": "ipython3",
   "version": "3.12.7"
  }
 },
 "nbformat": 4,
 "nbformat_minor": 2
}
